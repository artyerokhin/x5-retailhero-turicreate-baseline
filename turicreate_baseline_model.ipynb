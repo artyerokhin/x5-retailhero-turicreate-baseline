{
 "cells": [
  {
   "cell_type": "markdown",
   "metadata": {},
   "source": [
    "# Turicreate baseline\n",
    "Более подробно [почитать](https://apple.github.io/turicreate/docs/userguide/recommender/) про библиотеку"
   ]
  },
  {
   "cell_type": "code",
   "execution_count": 1,
   "metadata": {},
   "outputs": [],
   "source": [
    "import os\n",
    "import pandas as pd\n",
    "import numpy as np\n",
    "import turicreate as tc"
   ]
  },
  {
   "cell_type": "code",
   "execution_count": 2,
   "metadata": {},
   "outputs": [],
   "source": [
    "# precision at k\n",
    "def precision_at_k(r_true_arr, k):\n",
    "    return np.sum(r_true_arr[:k]) / k\n",
    "\n",
    "\n",
    "# average precision at k\n",
    "def average_precision_at_k(r_true_arr, k):\n",
    "    apk = 0\n",
    "    for n in range(0, k):\n",
    "        apk += precision_at_k(r_true_arr, n + 1) * r_true_arr[n]\n",
    "    if np.sum(r_true_arr[:k]) != 0:\n",
    "        return (apk) / k\n",
    "    else:\n",
    "        return 0\n",
    "\n",
    "\n",
    "# average normed precision at k\n",
    "def average_normed_precision_at_k(r_true_arr, k, n_true):\n",
    "    apk = 0\n",
    "    apk_ideal = n_true / k\n",
    "    \n",
    "    for n in range(0, k):\n",
    "        apk += precision_at_k(r_true_arr, n + 1) * r_true_arr[n]\n",
    "    if np.sum(r_true_arr[:k]) != 0:\n",
    "        return ((apk) / k) / apk_ideal\n",
    "    else:\n",
    "        return 0"
   ]
  },
  {
   "cell_type": "code",
   "execution_count": 3,
   "metadata": {
    "scrolled": true
   },
   "outputs": [
    {
     "data": {
      "text/html": [
       "<pre>Finished parsing file /Users/arty.erokhin/projects/competition/retail_hero/retailhero-uplift/data/clients.csv</pre>"
      ],
      "text/plain": [
       "Finished parsing file /Users/arty.erokhin/projects/competition/retail_hero/retailhero-uplift/data/clients.csv"
      ]
     },
     "metadata": {},
     "output_type": "display_data"
    },
    {
     "data": {
      "text/html": [
       "<pre>Parsing completed. Parsed 100 lines in 0.318353 secs.</pre>"
      ],
      "text/plain": [
       "Parsing completed. Parsed 100 lines in 0.318353 secs."
      ]
     },
     "metadata": {},
     "output_type": "display_data"
    },
    {
     "name": "stdout",
     "output_type": "stream",
     "text": [
      "------------------------------------------------------\n",
      "Inferred types from first 100 line(s) of file as \n",
      "column_type_hints=[str,str,str,int,str]\n",
      "If parsing fails due to incorrect types, you can correct\n",
      "the inferred type list above and pass it to read_csv in\n",
      "the column_type_hints argument\n",
      "------------------------------------------------------\n"
     ]
    },
    {
     "data": {
      "text/html": [
       "<pre>Finished parsing file /Users/arty.erokhin/projects/competition/retail_hero/retailhero-uplift/data/clients.csv</pre>"
      ],
      "text/plain": [
       "Finished parsing file /Users/arty.erokhin/projects/competition/retail_hero/retailhero-uplift/data/clients.csv"
      ]
     },
     "metadata": {},
     "output_type": "display_data"
    },
    {
     "data": {
      "text/html": [
       "<pre>Parsing completed. Parsed 400162 lines in 0.367728 secs.</pre>"
      ],
      "text/plain": [
       "Parsing completed. Parsed 400162 lines in 0.367728 secs."
      ]
     },
     "metadata": {},
     "output_type": "display_data"
    },
    {
     "data": {
      "text/html": [
       "<pre>Finished parsing file /Users/arty.erokhin/projects/competition/retail_hero/retailhero-uplift/data/products.csv</pre>"
      ],
      "text/plain": [
       "Finished parsing file /Users/arty.erokhin/projects/competition/retail_hero/retailhero-uplift/data/products.csv"
      ]
     },
     "metadata": {},
     "output_type": "display_data"
    },
    {
     "data": {
      "text/html": [
       "<pre>Parsing completed. Parsed 100 lines in 0.064703 secs.</pre>"
      ],
      "text/plain": [
       "Parsing completed. Parsed 100 lines in 0.064703 secs."
      ]
     },
     "metadata": {},
     "output_type": "display_data"
    },
    {
     "name": "stdout",
     "output_type": "stream",
     "text": [
      "------------------------------------------------------\n",
      "Inferred types from first 100 line(s) of file as \n",
      "column_type_hints=[str,str,str,str,str,float,str,str,float,int,int]\n",
      "If parsing fails due to incorrect types, you can correct\n",
      "the inferred type list above and pass it to read_csv in\n",
      "the column_type_hints argument\n",
      "------------------------------------------------------\n"
     ]
    },
    {
     "data": {
      "text/html": [
       "<pre>Finished parsing file /Users/arty.erokhin/projects/competition/retail_hero/retailhero-uplift/data/products.csv</pre>"
      ],
      "text/plain": [
       "Finished parsing file /Users/arty.erokhin/projects/competition/retail_hero/retailhero-uplift/data/products.csv"
      ]
     },
     "metadata": {},
     "output_type": "display_data"
    },
    {
     "data": {
      "text/html": [
       "<pre>Parsing completed. Parsed 43038 lines in 0.06195 secs.</pre>"
      ],
      "text/plain": [
       "Parsing completed. Parsed 43038 lines in 0.06195 secs."
      ]
     },
     "metadata": {},
     "output_type": "display_data"
    },
    {
     "data": {
      "text/html": [
       "<pre>Finished parsing file /Users/arty.erokhin/projects/competition/retail_hero/retailhero-uplift/data/purchases.csv</pre>"
      ],
      "text/plain": [
       "Finished parsing file /Users/arty.erokhin/projects/competition/retail_hero/retailhero-uplift/data/purchases.csv"
      ]
     },
     "metadata": {},
     "output_type": "display_data"
    },
    {
     "data": {
      "text/html": [
       "<pre>Parsing completed. Parsed 100 lines in 0.5527 secs.</pre>"
      ],
      "text/plain": [
       "Parsing completed. Parsed 100 lines in 0.5527 secs."
      ]
     },
     "metadata": {},
     "output_type": "display_data"
    },
    {
     "name": "stdout",
     "output_type": "stream",
     "text": [
      "------------------------------------------------------\n",
      "Inferred types from first 100 line(s) of file as \n",
      "column_type_hints=[str,str,str,float,float,float,float,float,str,str,float,float,str]\n",
      "If parsing fails due to incorrect types, you can correct\n",
      "the inferred type list above and pass it to read_csv in\n",
      "the column_type_hints argument\n",
      "------------------------------------------------------\n"
     ]
    },
    {
     "data": {
      "text/html": [
       "<pre>Read 537642 lines. Lines per second: 598212</pre>"
      ],
      "text/plain": [
       "Read 537642 lines. Lines per second: 598212"
      ]
     },
     "metadata": {},
     "output_type": "display_data"
    },
    {
     "data": {
      "text/html": [
       "<pre>Read 4840156 lines. Lines per second: 786821</pre>"
      ],
      "text/plain": [
       "Read 4840156 lines. Lines per second: 786821"
      ]
     },
     "metadata": {},
     "output_type": "display_data"
    },
    {
     "data": {
      "text/html": [
       "<pre>Read 9142422 lines. Lines per second: 777629</pre>"
      ],
      "text/plain": [
       "Read 9142422 lines. Lines per second: 777629"
      ]
     },
     "metadata": {},
     "output_type": "display_data"
    },
    {
     "data": {
      "text/html": [
       "<pre>Read 13444938 lines. Lines per second: 781275</pre>"
      ],
      "text/plain": [
       "Read 13444938 lines. Lines per second: 781275"
      ]
     },
     "metadata": {},
     "output_type": "display_data"
    },
    {
     "data": {
      "text/html": [
       "<pre>Read 17209972 lines. Lines per second: 770580</pre>"
      ],
      "text/plain": [
       "Read 17209972 lines. Lines per second: 770580"
      ]
     },
     "metadata": {},
     "output_type": "display_data"
    },
    {
     "data": {
      "text/html": [
       "<pre>Read 20974153 lines. Lines per second: 765850</pre>"
      ],
      "text/plain": [
       "Read 20974153 lines. Lines per second: 765850"
      ]
     },
     "metadata": {},
     "output_type": "display_data"
    },
    {
     "data": {
      "text/html": [
       "<pre>Read 24738333 lines. Lines per second: 760468</pre>"
      ],
      "text/plain": [
       "Read 24738333 lines. Lines per second: 760468"
      ]
     },
     "metadata": {},
     "output_type": "display_data"
    },
    {
     "data": {
      "text/html": [
       "<pre>Read 29040839 lines. Lines per second: 761094</pre>"
      ],
      "text/plain": [
       "Read 29040839 lines. Lines per second: 761094"
      ]
     },
     "metadata": {},
     "output_type": "display_data"
    },
    {
     "data": {
      "text/html": [
       "<pre>Read 33343168 lines. Lines per second: 764752</pre>"
      ],
      "text/plain": [
       "Read 33343168 lines. Lines per second: 764752"
      ]
     },
     "metadata": {},
     "output_type": "display_data"
    },
    {
     "data": {
      "text/html": [
       "<pre>Read 37107078 lines. Lines per second: 762250</pre>"
      ],
      "text/plain": [
       "Read 37107078 lines. Lines per second: 762250"
      ]
     },
     "metadata": {},
     "output_type": "display_data"
    },
    {
     "data": {
      "text/html": [
       "<pre>Read 40871601 lines. Lines per second: 754206</pre>"
      ],
      "text/plain": [
       "Read 40871601 lines. Lines per second: 754206"
      ]
     },
     "metadata": {},
     "output_type": "display_data"
    },
    {
     "data": {
      "text/html": [
       "<pre>Read 45173555 lines. Lines per second: 758605</pre>"
      ],
      "text/plain": [
       "Read 45173555 lines. Lines per second: 758605"
      ]
     },
     "metadata": {},
     "output_type": "display_data"
    },
    {
     "data": {
      "text/html": [
       "<pre>Finished parsing file /Users/arty.erokhin/projects/competition/retail_hero/retailhero-uplift/data/purchases.csv</pre>"
      ],
      "text/plain": [
       "Finished parsing file /Users/arty.erokhin/projects/competition/retail_hero/retailhero-uplift/data/purchases.csv"
      ]
     },
     "metadata": {},
     "output_type": "display_data"
    },
    {
     "data": {
      "text/html": [
       "<pre>Parsing completed. Parsed 45786568 lines in 60.1803 secs.</pre>"
      ],
      "text/plain": [
       "Parsing completed. Parsed 45786568 lines in 60.1803 secs."
      ]
     },
     "metadata": {},
     "output_type": "display_data"
    }
   ],
   "source": [
    "df_clients = tc.SFrame.read_csv('../retailhero-uplift/data/clients.csv')\n",
    "df_products = tc.SFrame.read_csv(\"../retailhero-uplift/data/products.csv\")\n",
    "df_purchases = tc.SFrame.read_csv(\"../retailhero-uplift/data/purchases.csv\")"
   ]
  },
  {
   "cell_type": "code",
   "execution_count": 4,
   "metadata": {},
   "outputs": [
    {
     "data": {
      "text/html": [
       "<div style=\"max-height:1000px;max-width:1500px;overflow:auto;\"><table frame=\"box\" rules=\"cols\">\n",
       "    <tr>\n",
       "        <th style=\"padding-left: 1em; padding-right: 1em; text-align: center\">client_id</th>\n",
       "        <th style=\"padding-left: 1em; padding-right: 1em; text-align: center\">transaction_id</th>\n",
       "        <th style=\"padding-left: 1em; padding-right: 1em; text-align: center\">transaction_datetime</th>\n",
       "        <th style=\"padding-left: 1em; padding-right: 1em; text-align: center\">regular_points_received</th>\n",
       "        <th style=\"padding-left: 1em; padding-right: 1em; text-align: center\">express_points_received</th>\n",
       "        <th style=\"padding-left: 1em; padding-right: 1em; text-align: center\">regular_points_spent</th>\n",
       "    </tr>\n",
       "    <tr>\n",
       "        <td style=\"padding-left: 1em; padding-right: 1em; text-align: center; vertical-align: top\">000012768d</td>\n",
       "        <td style=\"padding-left: 1em; padding-right: 1em; text-align: center; vertical-align: top\">7e3e2e3984</td>\n",
       "        <td style=\"padding-left: 1em; padding-right: 1em; text-align: center; vertical-align: top\">2018-12-01 07:12:45</td>\n",
       "        <td style=\"padding-left: 1em; padding-right: 1em; text-align: center; vertical-align: top\">10.0</td>\n",
       "        <td style=\"padding-left: 1em; padding-right: 1em; text-align: center; vertical-align: top\">0.0</td>\n",
       "        <td style=\"padding-left: 1em; padding-right: 1em; text-align: center; vertical-align: top\">0.0</td>\n",
       "    </tr>\n",
       "    <tr>\n",
       "        <td style=\"padding-left: 1em; padding-right: 1em; text-align: center; vertical-align: top\">000012768d</td>\n",
       "        <td style=\"padding-left: 1em; padding-right: 1em; text-align: center; vertical-align: top\">7e3e2e3984</td>\n",
       "        <td style=\"padding-left: 1em; padding-right: 1em; text-align: center; vertical-align: top\">2018-12-01 07:12:45</td>\n",
       "        <td style=\"padding-left: 1em; padding-right: 1em; text-align: center; vertical-align: top\">10.0</td>\n",
       "        <td style=\"padding-left: 1em; padding-right: 1em; text-align: center; vertical-align: top\">0.0</td>\n",
       "        <td style=\"padding-left: 1em; padding-right: 1em; text-align: center; vertical-align: top\">0.0</td>\n",
       "    </tr>\n",
       "</table>\n",
       "<table frame=\"box\" rules=\"cols\">\n",
       "    <tr>\n",
       "        <th style=\"padding-left: 1em; padding-right: 1em; text-align: center\">express_points_spent</th>\n",
       "        <th style=\"padding-left: 1em; padding-right: 1em; text-align: center\">purchase_sum</th>\n",
       "        <th style=\"padding-left: 1em; padding-right: 1em; text-align: center\">store_id</th>\n",
       "        <th style=\"padding-left: 1em; padding-right: 1em; text-align: center\">product_id</th>\n",
       "        <th style=\"padding-left: 1em; padding-right: 1em; text-align: center\">product_quantity</th>\n",
       "        <th style=\"padding-left: 1em; padding-right: 1em; text-align: center\">trn_sum_from_iss</th>\n",
       "        <th style=\"padding-left: 1em; padding-right: 1em; text-align: center\">trn_sum_from_red</th>\n",
       "    </tr>\n",
       "    <tr>\n",
       "        <td style=\"padding-left: 1em; padding-right: 1em; text-align: center; vertical-align: top\">0.0</td>\n",
       "        <td style=\"padding-left: 1em; padding-right: 1em; text-align: center; vertical-align: top\">1007.0</td>\n",
       "        <td style=\"padding-left: 1em; padding-right: 1em; text-align: center; vertical-align: top\">54a4a11a29</td>\n",
       "        <td style=\"padding-left: 1em; padding-right: 1em; text-align: center; vertical-align: top\">9a80204f78</td>\n",
       "        <td style=\"padding-left: 1em; padding-right: 1em; text-align: center; vertical-align: top\">2.0</td>\n",
       "        <td style=\"padding-left: 1em; padding-right: 1em; text-align: center; vertical-align: top\">80.0</td>\n",
       "        <td style=\"padding-left: 1em; padding-right: 1em; text-align: center; vertical-align: top\"></td>\n",
       "    </tr>\n",
       "    <tr>\n",
       "        <td style=\"padding-left: 1em; padding-right: 1em; text-align: center; vertical-align: top\">0.0</td>\n",
       "        <td style=\"padding-left: 1em; padding-right: 1em; text-align: center; vertical-align: top\">1007.0</td>\n",
       "        <td style=\"padding-left: 1em; padding-right: 1em; text-align: center; vertical-align: top\">54a4a11a29</td>\n",
       "        <td style=\"padding-left: 1em; padding-right: 1em; text-align: center; vertical-align: top\">da89ebd374</td>\n",
       "        <td style=\"padding-left: 1em; padding-right: 1em; text-align: center; vertical-align: top\">1.0</td>\n",
       "        <td style=\"padding-left: 1em; padding-right: 1em; text-align: center; vertical-align: top\">65.0</td>\n",
       "        <td style=\"padding-left: 1em; padding-right: 1em; text-align: center; vertical-align: top\"></td>\n",
       "    </tr>\n",
       "</table>\n",
       "[2 rows x 13 columns]<br/>\n",
       "</div>"
      ],
      "text/plain": [
       "Columns:\n",
       "\tclient_id\tstr\n",
       "\ttransaction_id\tstr\n",
       "\ttransaction_datetime\tstr\n",
       "\tregular_points_received\tfloat\n",
       "\texpress_points_received\tfloat\n",
       "\tregular_points_spent\tfloat\n",
       "\texpress_points_spent\tfloat\n",
       "\tpurchase_sum\tfloat\n",
       "\tstore_id\tstr\n",
       "\tproduct_id\tstr\n",
       "\tproduct_quantity\tfloat\n",
       "\ttrn_sum_from_iss\tfloat\n",
       "\ttrn_sum_from_red\tstr\n",
       "\n",
       "Rows: 2\n",
       "\n",
       "Data:\n",
       "+------------+----------------+----------------------+-------------------------+\n",
       "| client_id  | transaction_id | transaction_datetime | regular_points_received |\n",
       "+------------+----------------+----------------------+-------------------------+\n",
       "| 000012768d |   7e3e2e3984   | 2018-12-01 07:12:45  |           10.0          |\n",
       "| 000012768d |   7e3e2e3984   | 2018-12-01 07:12:45  |           10.0          |\n",
       "+------------+----------------+----------------------+-------------------------+\n",
       "+-------------------------+----------------------+----------------------+--------------+\n",
       "| express_points_received | regular_points_spent | express_points_spent | purchase_sum |\n",
       "+-------------------------+----------------------+----------------------+--------------+\n",
       "|           0.0           |         0.0          |         0.0          |    1007.0    |\n",
       "|           0.0           |         0.0          |         0.0          |    1007.0    |\n",
       "+-------------------------+----------------------+----------------------+--------------+\n",
       "+------------+------------+------------------+------------------+------------------+\n",
       "|  store_id  | product_id | product_quantity | trn_sum_from_iss | trn_sum_from_red |\n",
       "+------------+------------+------------------+------------------+------------------+\n",
       "| 54a4a11a29 | 9a80204f78 |       2.0        |       80.0       |                  |\n",
       "| 54a4a11a29 | da89ebd374 |       1.0        |       65.0       |                  |\n",
       "+------------+------------+------------------+------------------+------------------+\n",
       "[2 rows x 13 columns]"
      ]
     },
     "execution_count": 4,
     "metadata": {},
     "output_type": "execute_result"
    }
   ],
   "source": [
    "df_purchases[:2]"
   ]
  },
  {
   "cell_type": "code",
   "execution_count": 5,
   "metadata": {},
   "outputs": [
    {
     "data": {
      "text/html": [
       "<div style=\"max-height:1000px;max-width:1500px;overflow:auto;\"><table frame=\"box\" rules=\"cols\">\n",
       "    <tr>\n",
       "        <th style=\"padding-left: 1em; padding-right: 1em; text-align: center\">client_id</th>\n",
       "        <th style=\"padding-left: 1em; padding-right: 1em; text-align: center\">first_issue_date</th>\n",
       "        <th style=\"padding-left: 1em; padding-right: 1em; text-align: center\">first_redeem_date</th>\n",
       "        <th style=\"padding-left: 1em; padding-right: 1em; text-align: center\">age</th>\n",
       "        <th style=\"padding-left: 1em; padding-right: 1em; text-align: center\">gender</th>\n",
       "    </tr>\n",
       "    <tr>\n",
       "        <td style=\"padding-left: 1em; padding-right: 1em; text-align: center; vertical-align: top\">000012768d</td>\n",
       "        <td style=\"padding-left: 1em; padding-right: 1em; text-align: center; vertical-align: top\">2017-08-05 15:40:48</td>\n",
       "        <td style=\"padding-left: 1em; padding-right: 1em; text-align: center; vertical-align: top\">2018-01-04 19:30:07</td>\n",
       "        <td style=\"padding-left: 1em; padding-right: 1em; text-align: center; vertical-align: top\">45</td>\n",
       "        <td style=\"padding-left: 1em; padding-right: 1em; text-align: center; vertical-align: top\">U</td>\n",
       "    </tr>\n",
       "    <tr>\n",
       "        <td style=\"padding-left: 1em; padding-right: 1em; text-align: center; vertical-align: top\">000036f903</td>\n",
       "        <td style=\"padding-left: 1em; padding-right: 1em; text-align: center; vertical-align: top\">2017-04-10 13:54:23</td>\n",
       "        <td style=\"padding-left: 1em; padding-right: 1em; text-align: center; vertical-align: top\">2017-04-23 12:37:56</td>\n",
       "        <td style=\"padding-left: 1em; padding-right: 1em; text-align: center; vertical-align: top\">72</td>\n",
       "        <td style=\"padding-left: 1em; padding-right: 1em; text-align: center; vertical-align: top\">F</td>\n",
       "    </tr>\n",
       "</table>\n",
       "[2 rows x 5 columns]<br/>\n",
       "</div>"
      ],
      "text/plain": [
       "Columns:\n",
       "\tclient_id\tstr\n",
       "\tfirst_issue_date\tstr\n",
       "\tfirst_redeem_date\tstr\n",
       "\tage\tint\n",
       "\tgender\tstr\n",
       "\n",
       "Rows: 2\n",
       "\n",
       "Data:\n",
       "+------------+---------------------+---------------------+-----+--------+\n",
       "| client_id  |   first_issue_date  |  first_redeem_date  | age | gender |\n",
       "+------------+---------------------+---------------------+-----+--------+\n",
       "| 000012768d | 2017-08-05 15:40:48 | 2018-01-04 19:30:07 |  45 |   U    |\n",
       "| 000036f903 | 2017-04-10 13:54:23 | 2017-04-23 12:37:56 |  72 |   F    |\n",
       "+------------+---------------------+---------------------+-----+--------+\n",
       "[2 rows x 5 columns]"
      ]
     },
     "execution_count": 5,
     "metadata": {},
     "output_type": "execute_result"
    }
   ],
   "source": [
    "df_clients[:2]"
   ]
  },
  {
   "cell_type": "code",
   "execution_count": 6,
   "metadata": {},
   "outputs": [
    {
     "data": {
      "text/html": [
       "<div style=\"max-height:1000px;max-width:1500px;overflow:auto;\"><table frame=\"box\" rules=\"cols\">\n",
       "    <tr>\n",
       "        <th style=\"padding-left: 1em; padding-right: 1em; text-align: center\">product_id</th>\n",
       "        <th style=\"padding-left: 1em; padding-right: 1em; text-align: center\">level_1</th>\n",
       "        <th style=\"padding-left: 1em; padding-right: 1em; text-align: center\">level_2</th>\n",
       "        <th style=\"padding-left: 1em; padding-right: 1em; text-align: center\">level_3</th>\n",
       "        <th style=\"padding-left: 1em; padding-right: 1em; text-align: center\">level_4</th>\n",
       "        <th style=\"padding-left: 1em; padding-right: 1em; text-align: center\">segment_id</th>\n",
       "        <th style=\"padding-left: 1em; padding-right: 1em; text-align: center\">brand_id</th>\n",
       "        <th style=\"padding-left: 1em; padding-right: 1em; text-align: center\">vendor_id</th>\n",
       "        <th style=\"padding-left: 1em; padding-right: 1em; text-align: center\">netto</th>\n",
       "        <th style=\"padding-left: 1em; padding-right: 1em; text-align: center\">is_own_trademark</th>\n",
       "    </tr>\n",
       "    <tr>\n",
       "        <td style=\"padding-left: 1em; padding-right: 1em; text-align: center; vertical-align: top\">0003020d3c</td>\n",
       "        <td style=\"padding-left: 1em; padding-right: 1em; text-align: center; vertical-align: top\">c3d3a8e8c6</td>\n",
       "        <td style=\"padding-left: 1em; padding-right: 1em; text-align: center; vertical-align: top\">c2a3ea8d5e</td>\n",
       "        <td style=\"padding-left: 1em; padding-right: 1em; text-align: center; vertical-align: top\">b7cda0ec0c</td>\n",
       "        <td style=\"padding-left: 1em; padding-right: 1em; text-align: center; vertical-align: top\">6376f2a852</td>\n",
       "        <td style=\"padding-left: 1em; padding-right: 1em; text-align: center; vertical-align: top\">123.0</td>\n",
       "        <td style=\"padding-left: 1em; padding-right: 1em; text-align: center; vertical-align: top\">394a54a7c1</td>\n",
       "        <td style=\"padding-left: 1em; padding-right: 1em; text-align: center; vertical-align: top\">9eaff48661</td>\n",
       "        <td style=\"padding-left: 1em; padding-right: 1em; text-align: center; vertical-align: top\">0.4</td>\n",
       "        <td style=\"padding-left: 1em; padding-right: 1em; text-align: center; vertical-align: top\">0</td>\n",
       "    </tr>\n",
       "    <tr>\n",
       "        <td style=\"padding-left: 1em; padding-right: 1em; text-align: center; vertical-align: top\">0003870676</td>\n",
       "        <td style=\"padding-left: 1em; padding-right: 1em; text-align: center; vertical-align: top\">e344ab2e71</td>\n",
       "        <td style=\"padding-left: 1em; padding-right: 1em; text-align: center; vertical-align: top\">52f13dac0c</td>\n",
       "        <td style=\"padding-left: 1em; padding-right: 1em; text-align: center; vertical-align: top\">d3cfe81323</td>\n",
       "        <td style=\"padding-left: 1em; padding-right: 1em; text-align: center; vertical-align: top\">6dc544533f</td>\n",
       "        <td style=\"padding-left: 1em; padding-right: 1em; text-align: center; vertical-align: top\">105.0</td>\n",
       "        <td style=\"padding-left: 1em; padding-right: 1em; text-align: center; vertical-align: top\">acd3dd483f</td>\n",
       "        <td style=\"padding-left: 1em; padding-right: 1em; text-align: center; vertical-align: top\">10486c3cf0</td>\n",
       "        <td style=\"padding-left: 1em; padding-right: 1em; text-align: center; vertical-align: top\">0.68</td>\n",
       "        <td style=\"padding-left: 1em; padding-right: 1em; text-align: center; vertical-align: top\">0</td>\n",
       "    </tr>\n",
       "</table>\n",
       "<table frame=\"box\" rules=\"cols\">\n",
       "    <tr>\n",
       "        <th style=\"padding-left: 1em; padding-right: 1em; text-align: center\">is_alcohol</th>\n",
       "    </tr>\n",
       "    <tr>\n",
       "        <td style=\"padding-left: 1em; padding-right: 1em; text-align: center; vertical-align: top\">0</td>\n",
       "    </tr>\n",
       "    <tr>\n",
       "        <td style=\"padding-left: 1em; padding-right: 1em; text-align: center; vertical-align: top\">0</td>\n",
       "    </tr>\n",
       "</table>\n",
       "[2 rows x 11 columns]<br/>\n",
       "</div>"
      ],
      "text/plain": [
       "Columns:\n",
       "\tproduct_id\tstr\n",
       "\tlevel_1\tstr\n",
       "\tlevel_2\tstr\n",
       "\tlevel_3\tstr\n",
       "\tlevel_4\tstr\n",
       "\tsegment_id\tfloat\n",
       "\tbrand_id\tstr\n",
       "\tvendor_id\tstr\n",
       "\tnetto\tfloat\n",
       "\tis_own_trademark\tint\n",
       "\tis_alcohol\tint\n",
       "\n",
       "Rows: 2\n",
       "\n",
       "Data:\n",
       "+------------+------------+------------+------------+------------+------------+\n",
       "| product_id |  level_1   |  level_2   |  level_3   |  level_4   | segment_id |\n",
       "+------------+------------+------------+------------+------------+------------+\n",
       "| 0003020d3c | c3d3a8e8c6 | c2a3ea8d5e | b7cda0ec0c | 6376f2a852 |   123.0    |\n",
       "| 0003870676 | e344ab2e71 | 52f13dac0c | d3cfe81323 | 6dc544533f |   105.0    |\n",
       "+------------+------------+------------+------------+------------+------------+\n",
       "+------------+------------+-------+------------------+------------+\n",
       "|  brand_id  | vendor_id  | netto | is_own_trademark | is_alcohol |\n",
       "+------------+------------+-------+------------------+------------+\n",
       "| 394a54a7c1 | 9eaff48661 |  0.4  |        0         |     0      |\n",
       "| acd3dd483f | 10486c3cf0 |  0.68 |        0         |     0      |\n",
       "+------------+------------+-------+------------------+------------+\n",
       "[2 rows x 11 columns]"
      ]
     },
     "execution_count": 6,
     "metadata": {},
     "output_type": "execute_result"
    }
   ],
   "source": [
    "df_products[:2]"
   ]
  },
  {
   "cell_type": "code",
   "execution_count": 7,
   "metadata": {},
   "outputs": [],
   "source": [
    "# сделаем значения текстовыми, чтобы потом Turicreate сам сделал OHE\n",
    "df_products[\"segment_id\"] = df_products[\"segment_id\"].astype(str)\n",
    "df_products[\"is_alcohol\"] = df_products[\"is_alcohol\"].astype(str)\n",
    "df_products[\"is_own_trademark\"] = df_products[\"is_own_trademark\"].astype(str)"
   ]
  },
  {
   "cell_type": "code",
   "execution_count": 8,
   "metadata": {},
   "outputs": [],
   "source": [
    "# разбиваем на трейн и тест\n",
    "training_data, validation_data = \\\n",
    "    tc.recommender.util.random_split_by_user(df_purchases, \"client_id\", \"product_id\", \n",
    "                                            max_num_users=10000, random_seed=42)"
   ]
  },
  {
   "cell_type": "code",
   "execution_count": 9,
   "metadata": {},
   "outputs": [
    {
     "data": {
      "text/plain": [
       "((45556268, 13), (230300, 13))"
      ]
     },
     "execution_count": 9,
     "metadata": {},
     "output_type": "execute_result"
    }
   ],
   "source": [
    "training_data.shape, validation_data.shape"
   ]
  },
  {
   "cell_type": "code",
   "execution_count": 10,
   "metadata": {},
   "outputs": [],
   "source": [
    "columns = ['client_id',\n",
    "'product_id']\n",
    "\n",
    "item_columns = ['product_id',\n",
    " 'level_1',\n",
    " 'level_2',\n",
    " 'level_3',\n",
    " 'level_4',\n",
    " 'segment_id',\n",
    " 'brand_id',\n",
    " 'vendor_id',\n",
    " 'is_own_trademark',\n",
    " 'is_alcohol']"
   ]
  },
  {
   "cell_type": "code",
   "execution_count": 11,
   "metadata": {
    "scrolled": true
   },
   "outputs": [
    {
     "data": {
      "text/html": [
       "<pre>Preparing data set.</pre>"
      ],
      "text/plain": [
       "Preparing data set."
      ]
     },
     "metadata": {},
     "output_type": "display_data"
    },
    {
     "data": {
      "text/html": [
       "<pre>    Data has 45556268 observations with 400157 users and 43038 items.</pre>"
      ],
      "text/plain": [
       "    Data has 45556268 observations with 400157 users and 43038 items."
      ]
     },
     "metadata": {},
     "output_type": "display_data"
    },
    {
     "data": {
      "text/html": [
       "<pre>    Data prepared in: 15.5776s</pre>"
      ],
      "text/plain": [
       "    Data prepared in: 15.5776s"
      ]
     },
     "metadata": {},
     "output_type": "display_data"
    },
    {
     "data": {
      "text/html": [
       "<pre>Training ranking_factorization_recommender for recommendations.</pre>"
      ],
      "text/plain": [
       "Training ranking_factorization_recommender for recommendations."
      ]
     },
     "metadata": {},
     "output_type": "display_data"
    },
    {
     "data": {
      "text/html": [
       "<pre>+--------------------------------+--------------------------------------------------+----------+</pre>"
      ],
      "text/plain": [
       "+--------------------------------+--------------------------------------------------+----------+"
      ]
     },
     "metadata": {},
     "output_type": "display_data"
    },
    {
     "data": {
      "text/html": [
       "<pre>| Parameter                      | Description                                      | Value    |</pre>"
      ],
      "text/plain": [
       "| Parameter                      | Description                                      | Value    |"
      ]
     },
     "metadata": {},
     "output_type": "display_data"
    },
    {
     "data": {
      "text/html": [
       "<pre>+--------------------------------+--------------------------------------------------+----------+</pre>"
      ],
      "text/plain": [
       "+--------------------------------+--------------------------------------------------+----------+"
      ]
     },
     "metadata": {},
     "output_type": "display_data"
    },
    {
     "data": {
      "text/html": [
       "<pre>| num_factors                    | Factor Dimension                                 | 32       |</pre>"
      ],
      "text/plain": [
       "| num_factors                    | Factor Dimension                                 | 32       |"
      ]
     },
     "metadata": {},
     "output_type": "display_data"
    },
    {
     "data": {
      "text/html": [
       "<pre>| regularization                 | L2 Regularization on Factors                     | 1e-09    |</pre>"
      ],
      "text/plain": [
       "| regularization                 | L2 Regularization on Factors                     | 1e-09    |"
      ]
     },
     "metadata": {},
     "output_type": "display_data"
    },
    {
     "data": {
      "text/html": [
       "<pre>| solver                         | Solver used for training                         | adagrad  |</pre>"
      ],
      "text/plain": [
       "| solver                         | Solver used for training                         | adagrad  |"
      ]
     },
     "metadata": {},
     "output_type": "display_data"
    },
    {
     "data": {
      "text/html": [
       "<pre>| linear_regularization          | L2 Regularization on Linear Coefficients         | 1e-09    |</pre>"
      ],
      "text/plain": [
       "| linear_regularization          | L2 Regularization on Linear Coefficients         | 1e-09    |"
      ]
     },
     "metadata": {},
     "output_type": "display_data"
    },
    {
     "data": {
      "text/html": [
       "<pre>| binary_target                  | Assume Binary Targets                            | True     |</pre>"
      ],
      "text/plain": [
       "| binary_target                  | Assume Binary Targets                            | True     |"
      ]
     },
     "metadata": {},
     "output_type": "display_data"
    },
    {
     "data": {
      "text/html": [
       "<pre>| side_data_factorization        | Assign Factors for Side Data                     | True     |</pre>"
      ],
      "text/plain": [
       "| side_data_factorization        | Assign Factors for Side Data                     | True     |"
      ]
     },
     "metadata": {},
     "output_type": "display_data"
    },
    {
     "data": {
      "text/html": [
       "<pre>| max_iterations                 | Maximum Number of Iterations                     | 20       |</pre>"
      ],
      "text/plain": [
       "| max_iterations                 | Maximum Number of Iterations                     | 20       |"
      ]
     },
     "metadata": {},
     "output_type": "display_data"
    },
    {
     "data": {
      "text/html": [
       "<pre>+--------------------------------+--------------------------------------------------+----------+</pre>"
      ],
      "text/plain": [
       "+--------------------------------+--------------------------------------------------+----------+"
      ]
     },
     "metadata": {},
     "output_type": "display_data"
    },
    {
     "data": {
      "text/html": [
       "<pre>  Optimizing model using SGD; tuning step size.</pre>"
      ],
      "text/plain": [
       "  Optimizing model using SGD; tuning step size."
      ]
     },
     "metadata": {},
     "output_type": "display_data"
    },
    {
     "data": {
      "text/html": [
       "<pre>  Using 5694533 / 45556268 points for tuning the step size.</pre>"
      ],
      "text/plain": [
       "  Using 5694533 / 45556268 points for tuning the step size."
      ]
     },
     "metadata": {},
     "output_type": "display_data"
    },
    {
     "data": {
      "text/html": [
       "<pre>+---------+-------------------+------------------------------------------+</pre>"
      ],
      "text/plain": [
       "+---------+-------------------+------------------------------------------+"
      ]
     },
     "metadata": {},
     "output_type": "display_data"
    },
    {
     "data": {
      "text/html": [
       "<pre>| Attempt | Initial Step Size | Estimated Objective Value                |</pre>"
      ],
      "text/plain": [
       "| Attempt | Initial Step Size | Estimated Objective Value                |"
      ]
     },
     "metadata": {},
     "output_type": "display_data"
    },
    {
     "data": {
      "text/html": [
       "<pre>+---------+-------------------+------------------------------------------+</pre>"
      ],
      "text/plain": [
       "+---------+-------------------+------------------------------------------+"
      ]
     },
     "metadata": {},
     "output_type": "display_data"
    },
    {
     "data": {
      "text/html": [
       "<pre>| 0       | 4.54545           | Not Viable                               |</pre>"
      ],
      "text/plain": [
       "| 0       | 4.54545           | Not Viable                               |"
      ]
     },
     "metadata": {},
     "output_type": "display_data"
    },
    {
     "data": {
      "text/html": [
       "<pre>| 1       | 1.13636           | 1.11669                                  |</pre>"
      ],
      "text/plain": [
       "| 1       | 1.13636           | 1.11669                                  |"
      ]
     },
     "metadata": {},
     "output_type": "display_data"
    },
    {
     "data": {
      "text/html": [
       "<pre>| 2       | 0.568182          | 0.757816                                 |</pre>"
      ],
      "text/plain": [
       "| 2       | 0.568182          | 0.757816                                 |"
      ]
     },
     "metadata": {},
     "output_type": "display_data"
    },
    {
     "data": {
      "text/html": [
       "<pre>| 3       | 0.284091          | 0.608791                                 |</pre>"
      ],
      "text/plain": [
       "| 3       | 0.284091          | 0.608791                                 |"
      ]
     },
     "metadata": {},
     "output_type": "display_data"
    },
    {
     "data": {
      "text/html": [
       "<pre>| 4       | 0.142045          | 0.594699                                 |</pre>"
      ],
      "text/plain": [
       "| 4       | 0.142045          | 0.594699                                 |"
      ]
     },
     "metadata": {},
     "output_type": "display_data"
    },
    {
     "data": {
      "text/html": [
       "<pre>| 5       | 0.0710227         | 0.662951                                 |</pre>"
      ],
      "text/plain": [
       "| 5       | 0.0710227         | 0.662951                                 |"
      ]
     },
     "metadata": {},
     "output_type": "display_data"
    },
    {
     "data": {
      "text/html": [
       "<pre>| 6       | 0.0355114         | 0.841015                                 |</pre>"
      ],
      "text/plain": [
       "| 6       | 0.0355114         | 0.841015                                 |"
      ]
     },
     "metadata": {},
     "output_type": "display_data"
    },
    {
     "data": {
      "text/html": [
       "<pre>| 7       | 0.0177557         | 1.01282                                  |</pre>"
      ],
      "text/plain": [
       "| 7       | 0.0177557         | 1.01282                                  |"
      ]
     },
     "metadata": {},
     "output_type": "display_data"
    },
    {
     "data": {
      "text/html": [
       "<pre>+---------+-------------------+------------------------------------------+</pre>"
      ],
      "text/plain": [
       "+---------+-------------------+------------------------------------------+"
      ]
     },
     "metadata": {},
     "output_type": "display_data"
    },
    {
     "data": {
      "text/html": [
       "<pre>| Final   | 0.142045          | 0.594699                                 |</pre>"
      ],
      "text/plain": [
       "| Final   | 0.142045          | 0.594699                                 |"
      ]
     },
     "metadata": {},
     "output_type": "display_data"
    },
    {
     "data": {
      "text/html": [
       "<pre>+---------+-------------------+------------------------------------------+</pre>"
      ],
      "text/plain": [
       "+---------+-------------------+------------------------------------------+"
      ]
     },
     "metadata": {},
     "output_type": "display_data"
    },
    {
     "data": {
      "text/html": [
       "<pre>Starting Optimization.</pre>"
      ],
      "text/plain": [
       "Starting Optimization."
      ]
     },
     "metadata": {},
     "output_type": "display_data"
    },
    {
     "data": {
      "text/html": [
       "<pre>+---------+--------------+-------------------+-----------------------------------+-------------+</pre>"
      ],
      "text/plain": [
       "+---------+--------------+-------------------+-----------------------------------+-------------+"
      ]
     },
     "metadata": {},
     "output_type": "display_data"
    },
    {
     "data": {
      "text/html": [
       "<pre>| Iter.   | Elapsed Time | Approx. Objective | Approx. Training Predictive Error | Step Size   |</pre>"
      ],
      "text/plain": [
       "| Iter.   | Elapsed Time | Approx. Objective | Approx. Training Predictive Error | Step Size   |"
      ]
     },
     "metadata": {},
     "output_type": "display_data"
    },
    {
     "data": {
      "text/html": [
       "<pre>+---------+--------------+-------------------+-----------------------------------+-------------+</pre>"
      ],
      "text/plain": [
       "+---------+--------------+-------------------+-----------------------------------+-------------+"
      ]
     },
     "metadata": {},
     "output_type": "display_data"
    },
    {
     "data": {
      "text/html": [
       "<pre>| Initial | 429us        | 1.38669           | 0.693539                          |             |</pre>"
      ],
      "text/plain": [
       "| Initial | 429us        | 1.38669           | 0.693539                          |             |"
      ]
     },
     "metadata": {},
     "output_type": "display_data"
    },
    {
     "data": {
      "text/html": [
       "<pre>+---------+--------------+-------------------+-----------------------------------+-------------+</pre>"
      ],
      "text/plain": [
       "+---------+--------------+-------------------+-----------------------------------+-------------+"
      ]
     },
     "metadata": {},
     "output_type": "display_data"
    },
    {
     "data": {
      "text/html": [
       "<pre>| 1       | 1m 3s        | 0.757868          | 0.369047                          | 0.142045    |</pre>"
      ],
      "text/plain": [
       "| 1       | 1m 3s        | 0.757868          | 0.369047                          | 0.142045    |"
      ]
     },
     "metadata": {},
     "output_type": "display_data"
    },
    {
     "data": {
      "text/html": [
       "<pre>| 2       | 2m 5s        | 0.69208           | 0.329348                          | 0.142045    |</pre>"
      ],
      "text/plain": [
       "| 2       | 2m 5s        | 0.69208           | 0.329348                          | 0.142045    |"
      ]
     },
     "metadata": {},
     "output_type": "display_data"
    },
    {
     "data": {
      "text/html": [
       "<pre>| 3       | 3m 7s        | 0.652203          | 0.30841                           | 0.142045    |</pre>"
      ],
      "text/plain": [
       "| 3       | 3m 7s        | 0.652203          | 0.30841                           | 0.142045    |"
      ]
     },
     "metadata": {},
     "output_type": "display_data"
    },
    {
     "data": {
      "text/html": [
       "<pre>| 4       | 4m 10s       | 0.631805          | 0.297769                          | 0.142045    |</pre>"
      ],
      "text/plain": [
       "| 4       | 4m 10s       | 0.631805          | 0.297769                          | 0.142045    |"
      ]
     },
     "metadata": {},
     "output_type": "display_data"
    },
    {
     "data": {
      "text/html": [
       "<pre>| 5       | 5m 13s       | 0.619062          | 0.291034                          | 0.142045    |</pre>"
      ],
      "text/plain": [
       "| 5       | 5m 13s       | 0.619062          | 0.291034                          | 0.142045    |"
      ]
     },
     "metadata": {},
     "output_type": "display_data"
    },
    {
     "data": {
      "text/html": [
       "<pre>| 7       | 7m 17s       | 0.60504           | 0.282531                          | 0.142045    |</pre>"
      ],
      "text/plain": [
       "| 7       | 7m 17s       | 0.60504           | 0.282531                          | 0.142045    |"
      ]
     },
     "metadata": {},
     "output_type": "display_data"
    },
    {
     "data": {
      "text/html": [
       "<pre>| 8       | 8m 19s       | 0.600173          | 0.279528                          | 0.142045    |</pre>"
      ],
      "text/plain": [
       "| 8       | 8m 19s       | 0.600173          | 0.279528                          | 0.142045    |"
      ]
     },
     "metadata": {},
     "output_type": "display_data"
    },
    {
     "data": {
      "text/html": [
       "<pre>| 9       | 9m 28s       | 0.596225          | 0.277102                          | 0.142045    |</pre>"
      ],
      "text/plain": [
       "| 9       | 9m 28s       | 0.596225          | 0.277102                          | 0.142045    |"
      ]
     },
     "metadata": {},
     "output_type": "display_data"
    },
    {
     "data": {
      "text/html": [
       "<pre>| 10      | 10m 36s      | 0.59294           | 0.275079                          | 0.142045    |</pre>"
      ],
      "text/plain": [
       "| 10      | 10m 36s      | 0.59294           | 0.275079                          | 0.142045    |"
      ]
     },
     "metadata": {},
     "output_type": "display_data"
    },
    {
     "data": {
      "text/html": [
       "<pre>| 11      | 11m 43s      | 0.590259          | 0.27338                           | 0.142045    |</pre>"
      ],
      "text/plain": [
       "| 11      | 11m 43s      | 0.590259          | 0.27338                           | 0.142045    |"
      ]
     },
     "metadata": {},
     "output_type": "display_data"
    },
    {
     "data": {
      "text/html": [
       "<pre>| 12      | 12m 51s      | 0.587607          | 0.271774                          | 0.142045    |</pre>"
      ],
      "text/plain": [
       "| 12      | 12m 51s      | 0.587607          | 0.271774                          | 0.142045    |"
      ]
     },
     "metadata": {},
     "output_type": "display_data"
    },
    {
     "data": {
      "text/html": [
       "<pre>| 13      | 13m 55s      | 0.585626          | 0.270483                          | 0.142045    |</pre>"
      ],
      "text/plain": [
       "| 13      | 13m 55s      | 0.585626          | 0.270483                          | 0.142045    |"
      ]
     },
     "metadata": {},
     "output_type": "display_data"
    },
    {
     "data": {
      "text/html": [
       "<pre>| 14      | 15m 1s       | 0.58372           | 0.269275                          | 0.142045    |</pre>"
      ],
      "text/plain": [
       "| 14      | 15m 1s       | 0.58372           | 0.269275                          | 0.142045    |"
      ]
     },
     "metadata": {},
     "output_type": "display_data"
    },
    {
     "data": {
      "text/html": [
       "<pre>| 15      | 16m 10s      | 0.582131          | 0.268255                          | 0.142045    |</pre>"
      ],
      "text/plain": [
       "| 15      | 16m 10s      | 0.582131          | 0.268255                          | 0.142045    |"
      ]
     },
     "metadata": {},
     "output_type": "display_data"
    },
    {
     "data": {
      "text/html": [
       "<pre>| 16      | 17m 14s      | 0.580686          | 0.267323                          | 0.142045    |</pre>"
      ],
      "text/plain": [
       "| 16      | 17m 14s      | 0.580686          | 0.267323                          | 0.142045    |"
      ]
     },
     "metadata": {},
     "output_type": "display_data"
    },
    {
     "data": {
      "text/html": [
       "<pre>| 17      | 18m 19s      | 0.579183          | 0.266364                          | 0.142045    |</pre>"
      ],
      "text/plain": [
       "| 17      | 18m 19s      | 0.579183          | 0.266364                          | 0.142045    |"
      ]
     },
     "metadata": {},
     "output_type": "display_data"
    },
    {
     "data": {
      "text/html": [
       "<pre>| 18      | 19m 24s      | 0.577796          | 0.265546                          | 0.142045    |</pre>"
      ],
      "text/plain": [
       "| 18      | 19m 24s      | 0.577796          | 0.265546                          | 0.142045    |"
      ]
     },
     "metadata": {},
     "output_type": "display_data"
    },
    {
     "data": {
      "text/html": [
       "<pre>| 19      | 20m 28s      | 0.576662          | 0.264814                          | 0.142045    |</pre>"
      ],
      "text/plain": [
       "| 19      | 20m 28s      | 0.576662          | 0.264814                          | 0.142045    |"
      ]
     },
     "metadata": {},
     "output_type": "display_data"
    },
    {
     "data": {
      "text/html": [
       "<pre>| 20      | 21m 39s      | 0.575677          | 0.264154                          | 0.142045    |</pre>"
      ],
      "text/plain": [
       "| 20      | 21m 39s      | 0.575677          | 0.264154                          | 0.142045    |"
      ]
     },
     "metadata": {},
     "output_type": "display_data"
    },
    {
     "data": {
      "text/html": [
       "<pre>+---------+--------------+-------------------+-----------------------------------+-------------+</pre>"
      ],
      "text/plain": [
       "+---------+--------------+-------------------+-----------------------------------+-------------+"
      ]
     },
     "metadata": {},
     "output_type": "display_data"
    },
    {
     "data": {
      "text/html": [
       "<pre>Optimization Complete: Maximum number of passes through the data reached.</pre>"
      ],
      "text/plain": [
       "Optimization Complete: Maximum number of passes through the data reached."
      ]
     },
     "metadata": {},
     "output_type": "display_data"
    },
    {
     "data": {
      "text/html": [
       "<pre>Computing final objective value and training Predictive Error.</pre>"
      ],
      "text/plain": [
       "Computing final objective value and training Predictive Error."
      ]
     },
     "metadata": {},
     "output_type": "display_data"
    },
    {
     "data": {
      "text/html": [
       "<pre>       Final objective value: 0.574467</pre>"
      ],
      "text/plain": [
       "       Final objective value: 0.574467"
      ]
     },
     "metadata": {},
     "output_type": "display_data"
    },
    {
     "data": {
      "text/html": [
       "<pre>       Final training Predictive Error: 0.263977</pre>"
      ],
      "text/plain": [
       "       Final training Predictive Error: 0.263977"
      ]
     },
     "metadata": {},
     "output_type": "display_data"
    }
   ],
   "source": [
    "# обучим модель с дополнительными данными о продуктах\n",
    "model = tc.recommender.ranking_factorization_recommender.create(training_data[columns], \n",
    "                                                        user_id=\"client_id\", \n",
    "                                                        item_id=\"product_id\",\n",
    "                                                        max_iterations=20,\n",
    "                                                        item_data=df_products[item_columns])"
   ]
  },
  {
   "cell_type": "code",
   "execution_count": 12,
   "metadata": {},
   "outputs": [
    {
     "data": {
      "text/html": [
       "<pre>recommendations finished on 1000/9871 queries. users per second: 295.074</pre>"
      ],
      "text/plain": [
       "recommendations finished on 1000/9871 queries. users per second: 295.074"
      ]
     },
     "metadata": {},
     "output_type": "display_data"
    },
    {
     "data": {
      "text/html": [
       "<pre>recommendations finished on 2000/9871 queries. users per second: 292.381</pre>"
      ],
      "text/plain": [
       "recommendations finished on 2000/9871 queries. users per second: 292.381"
      ]
     },
     "metadata": {},
     "output_type": "display_data"
    },
    {
     "data": {
      "text/html": [
       "<pre>recommendations finished on 3000/9871 queries. users per second: 291.811</pre>"
      ],
      "text/plain": [
       "recommendations finished on 3000/9871 queries. users per second: 291.811"
      ]
     },
     "metadata": {},
     "output_type": "display_data"
    },
    {
     "data": {
      "text/html": [
       "<pre>recommendations finished on 4000/9871 queries. users per second: 292.018</pre>"
      ],
      "text/plain": [
       "recommendations finished on 4000/9871 queries. users per second: 292.018"
      ]
     },
     "metadata": {},
     "output_type": "display_data"
    },
    {
     "data": {
      "text/html": [
       "<pre>recommendations finished on 5000/9871 queries. users per second: 293.52</pre>"
      ],
      "text/plain": [
       "recommendations finished on 5000/9871 queries. users per second: 293.52"
      ]
     },
     "metadata": {},
     "output_type": "display_data"
    },
    {
     "data": {
      "text/html": [
       "<pre>recommendations finished on 6000/9871 queries. users per second: 293.936</pre>"
      ],
      "text/plain": [
       "recommendations finished on 6000/9871 queries. users per second: 293.936"
      ]
     },
     "metadata": {},
     "output_type": "display_data"
    },
    {
     "data": {
      "text/html": [
       "<pre>recommendations finished on 7000/9871 queries. users per second: 296.749</pre>"
      ],
      "text/plain": [
       "recommendations finished on 7000/9871 queries. users per second: 296.749"
      ]
     },
     "metadata": {},
     "output_type": "display_data"
    },
    {
     "data": {
      "text/html": [
       "<pre>recommendations finished on 8000/9871 queries. users per second: 299.506</pre>"
      ],
      "text/plain": [
       "recommendations finished on 8000/9871 queries. users per second: 299.506"
      ]
     },
     "metadata": {},
     "output_type": "display_data"
    },
    {
     "data": {
      "text/html": [
       "<pre>recommendations finished on 9000/9871 queries. users per second: 300.654</pre>"
      ],
      "text/plain": [
       "recommendations finished on 9000/9871 queries. users per second: 300.654"
      ]
     },
     "metadata": {},
     "output_type": "display_data"
    }
   ],
   "source": [
    "# рекомендации для пользователей из вадидационной выборки\n",
    "recommended = model.recommend(validation_data[\"client_id\"].unique(), k=30, \n",
    "                              exclude_known=False)"
   ]
  },
  {
   "cell_type": "code",
   "execution_count": 13,
   "metadata": {},
   "outputs": [],
   "source": [
    "# датафрейм с покупками в реальности\n",
    "reality = validation_data[\"client_id\", \"product_id\"].to_dataframe()\n",
    "reality.loc[:, \"is_buyed\"] = 1"
   ]
  },
  {
   "cell_type": "markdown",
   "metadata": {},
   "source": [
    "# Metrics (precision@30, avg_precision@30, average_normed_precision@30)"
   ]
  },
  {
   "cell_type": "code",
   "execution_count": 14,
   "metadata": {},
   "outputs": [],
   "source": [
    "rec_df = recommended.to_dataframe().merge(reality, on=[\"client_id\", \"product_id\"], \n",
    "                                          how=\"left\", sort=False).fillna(0)"
   ]
  },
  {
   "cell_type": "code",
   "execution_count": 15,
   "metadata": {},
   "outputs": [],
   "source": [
    "# словарь с количеством покупок на валидации\n",
    "real_dict = reality.groupby(by=\"client_id\")[\"is_buyed\"].sum().to_dict()"
   ]
  },
  {
   "cell_type": "code",
   "execution_count": 16,
   "metadata": {},
   "outputs": [
    {
     "data": {
      "text/plain": [
       "0.15021443285043734"
      ]
     },
     "execution_count": 16,
     "metadata": {},
     "output_type": "execute_result"
    }
   ],
   "source": [
    "np.mean([precision_at_k(i, 30) for i in \n",
    "         rec_df.groupby(by=\"client_id\", sort=False)[\"is_buyed\"].apply(list)])"
   ]
  },
  {
   "cell_type": "code",
   "execution_count": 17,
   "metadata": {},
   "outputs": [
    {
     "data": {
      "text/plain": [
       "0.08843787115556434"
      ]
     },
     "execution_count": 17,
     "metadata": {},
     "output_type": "execute_result"
    }
   ],
   "source": [
    "np.mean([average_precision_at_k(i, 30) for i in \n",
    "         rec_df.groupby(by=\"client_id\")[\"is_buyed\"].apply(list)])"
   ]
  },
  {
   "cell_type": "code",
   "execution_count": 18,
   "metadata": {},
   "outputs": [
    {
     "data": {
      "text/plain": [
       "0.09879876704365677"
      ]
     },
     "execution_count": 18,
     "metadata": {},
     "output_type": "execute_result"
    }
   ],
   "source": [
    "np.mean([average_normed_precision_at_k(i, 30, real_dict.get(client, 0)) for client, i in \n",
    "         rec_df.groupby(by=\"client_id\")[\"is_buyed\"].apply(list).reset_index().values])"
   ]
  },
  {
   "cell_type": "markdown",
   "metadata": {},
   "source": [
    "# Сохраняем нашу модель"
   ]
  },
  {
   "cell_type": "code",
   "execution_count": 19,
   "metadata": {},
   "outputs": [],
   "source": [
    "model.save(\"x5.model\")"
   ]
  },
  {
   "cell_type": "markdown",
   "metadata": {},
   "source": [
    "# Загрузка модели быстрая"
   ]
  },
  {
   "cell_type": "code",
   "execution_count": 20,
   "metadata": {},
   "outputs": [
    {
     "name": "stdout",
     "output_type": "stream",
     "text": [
      "CPU times: user 770 ms, sys: 149 ms, total: 919 ms\n",
      "Wall time: 480 ms\n"
     ]
    }
   ],
   "source": [
    "%%time\n",
    "model = tc.load_model(\"x5.model\")"
   ]
  },
  {
   "cell_type": "markdown",
   "metadata": {},
   "source": [
    "# Итого:\n",
    "1. Мы обучили factorization_recommender из библиотеки turicreate;\n",
    "2. Сделали валидационное и обучающее множества, получив на валидации результаты:\n",
    "    - average_precision_at_k: 0.088\n",
    "    - average_normed_precision_at_k: 0.099\n",
    "3. Сохранили модель и использовали ее в решении;\n",
    "4. Получили следующие результаты при загрузке нашего ответа:\n",
    "    - check: 0.0907\n",
    "    - public: 0.0754"
   ]
  }
 ],
 "metadata": {
  "kernelspec": {
   "display_name": "Python_base",
   "language": "python",
   "name": "base"
  },
  "language_info": {
   "codemirror_mode": {
    "name": "ipython",
    "version": 3
   },
   "file_extension": ".py",
   "mimetype": "text/x-python",
   "name": "python",
   "nbconvert_exporter": "python",
   "pygments_lexer": "ipython3",
   "version": "3.7.3"
  }
 },
 "nbformat": 4,
 "nbformat_minor": 2
}
